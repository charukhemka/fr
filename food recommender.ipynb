{
 "cells": [
  {
   "cell_type": "markdown",
   "metadata": {},
   "source": [
    "### Imports"
   ]
  },
  {
   "cell_type": "code",
   "execution_count": 2,
   "metadata": {
    "id": "T8ZQmKRNw7d7"
   },
   "outputs": [],
   "source": [
    "import pandas as pd\n",
    "import numpy as np\n",
    "from scipy.sparse import csr_matrix\n",
    "from sklearn.neighbors import NearestNeighbors\n",
    "import matplotlib.pyplot as plt\n",
    "import seaborn as sns"
   ]
  },
  {
   "cell_type": "code",
   "execution_count": 3,
   "metadata": {
    "id": "V7_mlKuwzFtq"
   },
   "outputs": [],
   "source": [
    "food = pd.read_csv(\"food.csv\")\n",
    "ratings = pd.read_csv(\"ratings.csv\")"
   ]
  },
  {
   "cell_type": "markdown",
   "metadata": {},
   "source": [
    "### Preprocessing"
   ]
  },
  {
   "cell_type": "code",
   "execution_count": 4,
   "metadata": {},
   "outputs": [],
   "source": [
    "dataset = ratings.pivot_table(index='Food_ID',columns='User_ID',values='Rating')"
   ]
  },
  {
   "cell_type": "code",
   "execution_count": 5,
   "metadata": {},
   "outputs": [],
   "source": [
    "dataset.fillna(0,inplace=True)"
   ]
  },
  {
   "cell_type": "code",
   "execution_count": 6,
   "metadata": {},
   "outputs": [
    {
     "name": "stdout",
     "output_type": "stream",
     "text": [
      "User_ID  Food_ID  1.0  2.0  3.0  4.0  5.0  6.0  7.0  8.0  9.0  ...  91.0  \\\n",
      "0            1.0  0.0  0.0  0.0  0.0  0.0  0.0  0.0  0.0  0.0  ...   0.0   \n",
      "1            2.0  0.0  0.0  0.0  0.0  0.0  0.0  0.0  0.0  3.0  ...   0.0   \n",
      "2            3.0  0.0  0.0  0.0  0.0  0.0  0.0  0.0  0.0  0.0  ...   0.0   \n",
      "3            4.0  0.0  0.0  0.0  0.0  0.0  0.0  0.0  0.0  0.0  ...   0.0   \n",
      "4            5.0  0.0  0.0  0.0  0.0  0.0  0.0  0.0  0.0  0.0  ...   0.0   \n",
      "..           ...  ...  ...  ...  ...  ...  ...  ...  ...  ...  ...   ...   \n",
      "304        305.0  0.0  0.0  0.0  0.0  0.0  0.0  0.0  0.0  0.0  ...   0.0   \n",
      "305        306.0  0.0  0.0  0.0  0.0  0.0  0.0  0.0  0.0  0.0  ...   0.0   \n",
      "306        307.0  0.0  0.0  0.0  0.0  0.0  0.0  0.0  0.0  0.0  ...   0.0   \n",
      "307        308.0  0.0  0.0  0.0  0.0  0.0  0.0  0.0  0.0  0.0  ...   0.0   \n",
      "308        309.0  0.0  0.0  0.0  0.0  0.0  0.0  0.0  0.0  0.0  ...   0.0   \n",
      "\n",
      "User_ID  92.0  93.0  94.0  95.0  96.0  97.0  98.0  99.0  100.0  \n",
      "0         0.0   0.0   0.0   0.0   0.0   0.0   0.0   0.0    0.0  \n",
      "1         0.0   0.0   0.0   0.0   0.0   0.0   0.0   0.0    0.0  \n",
      "2         0.0   0.0   0.0   0.0   0.0   0.0   0.0   0.0    0.0  \n",
      "3         0.0   0.0   0.0   0.0   0.0   0.0   0.0   0.0    0.0  \n",
      "4         0.0   0.0   2.0   0.0   0.0   0.0   7.0   0.0    0.0  \n",
      "..        ...   ...   ...   ...   ...   ...   ...   ...    ...  \n",
      "304       0.0   0.0   0.0   0.0   0.0   0.0   0.0   0.0    0.0  \n",
      "305       0.0   0.0   0.0   0.0   0.0   0.0   0.0   0.0    0.0  \n",
      "306       0.0   0.0   0.0   0.0   0.0   0.0   0.0   0.0    0.0  \n",
      "307       0.0   0.0   0.0   0.0   0.0   3.0   0.0   0.0    0.0  \n",
      "308       0.0   0.0   0.0   0.0   0.0   0.0   0.0   0.0    0.0  \n",
      "\n",
      "[309 rows x 101 columns]\n"
     ]
    }
   ],
   "source": [
    "csr_dataset = csr_matrix(dataset.values)\n",
    "dataset.reset_index(inplace=True)\n",
    "print(dataset)"
   ]
  },
  {
   "cell_type": "markdown",
   "metadata": {},
   "source": [
    "### Model"
   ]
  },
  {
   "cell_type": "code",
   "execution_count": 7,
   "metadata": {},
   "outputs": [
    {
     "data": {
      "text/plain": [
       "NearestNeighbors(algorithm='brute', metric='cosine', n_jobs=-1, n_neighbors=20)"
      ]
     },
     "execution_count": 7,
     "metadata": {},
     "output_type": "execute_result"
    }
   ],
   "source": [
    "model = NearestNeighbors(metric='cosine', algorithm='brute', n_neighbors=20, n_jobs=-1)\n",
    "model.fit(csr_dataset)"
   ]
  },
  {
   "cell_type": "markdown",
   "metadata": {},
   "source": [
    "### cbfunction"
   ]
  },
  {
   "cell_type": "code",
   "execution_count": 11,
   "metadata": {},
   "outputs": [],
   "source": [
    "def food_recommendation(Food_Name):\n",
    "    n = 10\n",
    "    FoodList = food[food['Name'].str.contains(Food_Name)]  \n",
    "    if len(FoodList):        \n",
    "        Foodi= FoodList.iloc[0]['Food_ID']\n",
    "        Foodi = dataset[dataset['Food_ID'] == Foodi].index[0]\n",
    "        distances , indices = model.kneighbors(csr_dataset[Foodi],n_neighbors=n+1)    \n",
    "        Food_indices = sorted(list(zip(indices.squeeze().tolist(),distances.squeeze().tolist())),key=lambda x: x[1])[:0:-1]\n",
    "        Recommendations = []\n",
    "        for val in Food_indices:\n",
    "            Foodi = dataset.iloc[val[0]]['Food_ID']\n",
    "            i = food[food['Food_ID'] == Foodi].index\n",
    "            Recommendations.append({'Name':food.iloc[i]['Name'].values[0],'Distance':val[1]})\n",
    "        df = pd.DataFrame(Recommendations,index=range(1,n+1))\n",
    "        return df['Name']\n",
    "    else:\n",
    "        return \"No Similar Foods.\""
   ]
  },
  {
   "cell_type": "code",
   "execution_count": 12,
   "metadata": {},
   "outputs": [
    {
     "data": {
      "text/plain": [
       "1                            chocolate appe\n",
       "2                          french pork chop\n",
       "3                                corn pulao\n",
       "4     surmai curry with lobster butter rice\n",
       "5                       apple and pear cake\n",
       "6                          lemon sushi cake\n",
       "7                   grilled lemon margarita\n",
       "8                    chocolate nero cookies\n",
       "9                               bhurji- egg\n",
       "10                       chocolate doughnut\n",
       "Name: Name, dtype: object"
      ]
     },
     "execution_count": 12,
     "metadata": {},
     "output_type": "execute_result"
    }
   ],
   "source": [
    "food_recommendation('summer squash salad')"
   ]
  },
  {
   "cell_type": "code",
   "execution_count": null,
   "metadata": {},
   "outputs": [],
   "source": []
  }
 ],
 "metadata": {
  "colab": {
   "name": "imports.ipynb",
   "provenance": []
  },
  "kernelspec": {
   "display_name": "Python 3 (ipykernel)",
   "language": "python",
   "name": "python3"
  },
  "language_info": {
   "codemirror_mode": {
    "name": "ipython",
    "version": 3
   },
   "file_extension": ".py",
   "mimetype": "text/x-python",
   "name": "python",
   "nbconvert_exporter": "python",
   "pygments_lexer": "ipython3",
   "version": "3.9.13"
  }
 },
 "nbformat": 4,
 "nbformat_minor": 1
}
